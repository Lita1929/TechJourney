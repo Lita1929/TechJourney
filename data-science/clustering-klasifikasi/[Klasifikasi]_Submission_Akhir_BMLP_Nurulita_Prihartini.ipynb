{
  "nbformat": 4,
  "nbformat_minor": 0,
  "metadata": {
    "colab": {
      "provenance": [],
      "collapsed_sections": [
        "16WJrkKm3_8m"
      ]
    },
    "kernelspec": {
      "name": "python3",
      "display_name": "Python 3"
    },
    "language_info": {
      "name": "python"
    }
  },
  "cells": [
    {
      "cell_type": "markdown",
      "source": [
        "# **1. Import Library**"
      ],
      "metadata": {
        "id": "fKADPWcFKlj3"
      }
    },
    {
      "cell_type": "markdown",
      "source": [
        "Pada tahap ini, Anda perlu mengimpor beberapa pustaka (library) Python yang dibutuhkan untuk analisis data dan pembangunan model machine learning."
      ],
      "metadata": {
        "id": "LgA3ERnVn84N"
      }
    },
    {
      "cell_type": "code",
      "source": [
        "!pip install scikit-optimize"
      ],
      "metadata": {
        "colab": {
          "base_uri": "https://localhost:8080/"
        },
        "id": "v-0fz8hpFGv9",
        "outputId": "19441f6d-142a-4aca-be6e-952f23ef1d29"
      },
      "execution_count": 45,
      "outputs": [
        {
          "output_type": "stream",
          "name": "stdout",
          "text": [
            "Collecting scikit-optimize\n",
            "  Downloading scikit_optimize-0.10.2-py2.py3-none-any.whl.metadata (9.7 kB)\n",
            "Requirement already satisfied: joblib>=0.11 in /usr/local/lib/python3.10/dist-packages (from scikit-optimize) (1.4.2)\n",
            "Collecting pyaml>=16.9 (from scikit-optimize)\n",
            "  Downloading pyaml-24.9.0-py3-none-any.whl.metadata (11 kB)\n",
            "Requirement already satisfied: numpy>=1.20.3 in /usr/local/lib/python3.10/dist-packages (from scikit-optimize) (1.26.4)\n",
            "Requirement already satisfied: scipy>=1.1.0 in /usr/local/lib/python3.10/dist-packages (from scikit-optimize) (1.13.1)\n",
            "Requirement already satisfied: scikit-learn>=1.0.0 in /usr/local/lib/python3.10/dist-packages (from scikit-optimize) (1.5.2)\n",
            "Requirement already satisfied: packaging>=21.3 in /usr/local/lib/python3.10/dist-packages (from scikit-optimize) (24.2)\n",
            "Requirement already satisfied: PyYAML in /usr/local/lib/python3.10/dist-packages (from pyaml>=16.9->scikit-optimize) (6.0.2)\n",
            "Requirement already satisfied: threadpoolctl>=3.1.0 in /usr/local/lib/python3.10/dist-packages (from scikit-learn>=1.0.0->scikit-optimize) (3.5.0)\n",
            "Downloading scikit_optimize-0.10.2-py2.py3-none-any.whl (107 kB)\n",
            "\u001b[?25l   \u001b[90m━━━━━━━━━━━━━━━━━━━━━━━━━━━━━━━━━━━━━━━━\u001b[0m \u001b[32m0.0/107.8 kB\u001b[0m \u001b[31m?\u001b[0m eta \u001b[36m-:--:--\u001b[0m\r\u001b[2K   \u001b[90m━━━━━━━━━━━━━━━━━━━━━━━━━━━━━━━━━━━━━━━━\u001b[0m \u001b[32m107.8/107.8 kB\u001b[0m \u001b[31m3.4 MB/s\u001b[0m eta \u001b[36m0:00:00\u001b[0m\n",
            "\u001b[?25hDownloading pyaml-24.9.0-py3-none-any.whl (24 kB)\n",
            "Installing collected packages: pyaml, scikit-optimize\n",
            "Successfully installed pyaml-24.9.0 scikit-optimize-0.10.2\n"
          ]
        }
      ]
    },
    {
      "cell_type": "code",
      "source": [
        "import pandas as pd\n",
        "import numpy as np\n",
        "import seaborn as sns\n",
        "import matplotlib.pyplot as plt\n",
        "from sklearn.model_selection import train_test_split\n",
        "from sklearn.preprocessing import RobustScaler\n",
        "from sklearn.neighbors import KNeighborsClassifier\n",
        "from sklearn.tree import DecisionTreeClassifier\n",
        "from sklearn.ensemble import RandomForestClassifier\n",
        "from sklearn.svm import SVC\n",
        "from sklearn.naive_bayes import GaussianNB\n",
        "from sklearn.metrics import confusion_matrix, accuracy_score, precision_score, recall_score, f1_score, classification_report\n",
        "from skopt import BayesSearchCV"
      ],
      "metadata": {
        "id": "BlmvjLY9M4Yj"
      },
      "execution_count": 51,
      "outputs": []
    },
    {
      "cell_type": "markdown",
      "source": [
        "# **2. Memuat Dataset dari Hasil Clustering**"
      ],
      "metadata": {
        "id": "f3YIEnAFKrKL"
      }
    },
    {
      "cell_type": "markdown",
      "source": [
        "Memuat dataset hasil clustering dari file CSV ke dalam variabel DataFrame."
      ],
      "metadata": {
        "id": "Ey3ItwTen_7E"
      }
    },
    {
      "cell_type": "code",
      "source": [
        "clustered_df = pd.read_csv('/content/result_clustered.csv')\n",
        "clustered_df.head()"
      ],
      "metadata": {
        "id": "GHCGNTyrM5fS",
        "colab": {
          "base_uri": "https://localhost:8080/",
          "height": 206
        },
        "outputId": "bf26a206-107f-430f-9767-58f7b8174518"
      },
      "execution_count": 2,
      "outputs": [
        {
          "output_type": "execute_result",
          "data": {
            "text/plain": [
              "   Crop  Crop_Year  Season  State      Area  Production  Annual_Rainfall  \\\n",
              "0     0  -1.181818       4      2  3.641841    1.758649         1.573918   \n",
              "1     1  -1.181818       1      2 -0.151327   -0.373791         1.573918   \n",
              "2     8  -1.181818       1      2 -0.481141   -0.564929         1.573918   \n",
              "3     9  -1.181818       4      2  0.583794    0.000000         1.573918   \n",
              "4    11  -1.181818       1      2 -0.427894   -0.533284         1.573918   \n",
              "\n",
              "   Fertilizer  Pesticide     Yield  Cluster  \n",
              "0    2.433882   4.276830 -0.309260        1  \n",
              "1   -0.253612  -0.076177 -0.422502        0  \n",
              "2   -0.487288  -0.454668 -1.046675        0  \n",
              "3    0.267228   0.767442  0.000000        0  \n",
              "4   -0.449563  -0.393562 -0.805288        0  "
            ],
            "text/html": [
              "\n",
              "  <div id=\"df-994e5b88-07c2-42fc-b548-a853b03d0c39\" class=\"colab-df-container\">\n",
              "    <div>\n",
              "<style scoped>\n",
              "    .dataframe tbody tr th:only-of-type {\n",
              "        vertical-align: middle;\n",
              "    }\n",
              "\n",
              "    .dataframe tbody tr th {\n",
              "        vertical-align: top;\n",
              "    }\n",
              "\n",
              "    .dataframe thead th {\n",
              "        text-align: right;\n",
              "    }\n",
              "</style>\n",
              "<table border=\"1\" class=\"dataframe\">\n",
              "  <thead>\n",
              "    <tr style=\"text-align: right;\">\n",
              "      <th></th>\n",
              "      <th>Crop</th>\n",
              "      <th>Crop_Year</th>\n",
              "      <th>Season</th>\n",
              "      <th>State</th>\n",
              "      <th>Area</th>\n",
              "      <th>Production</th>\n",
              "      <th>Annual_Rainfall</th>\n",
              "      <th>Fertilizer</th>\n",
              "      <th>Pesticide</th>\n",
              "      <th>Yield</th>\n",
              "      <th>Cluster</th>\n",
              "    </tr>\n",
              "  </thead>\n",
              "  <tbody>\n",
              "    <tr>\n",
              "      <th>0</th>\n",
              "      <td>0</td>\n",
              "      <td>-1.181818</td>\n",
              "      <td>4</td>\n",
              "      <td>2</td>\n",
              "      <td>3.641841</td>\n",
              "      <td>1.758649</td>\n",
              "      <td>1.573918</td>\n",
              "      <td>2.433882</td>\n",
              "      <td>4.276830</td>\n",
              "      <td>-0.309260</td>\n",
              "      <td>1</td>\n",
              "    </tr>\n",
              "    <tr>\n",
              "      <th>1</th>\n",
              "      <td>1</td>\n",
              "      <td>-1.181818</td>\n",
              "      <td>1</td>\n",
              "      <td>2</td>\n",
              "      <td>-0.151327</td>\n",
              "      <td>-0.373791</td>\n",
              "      <td>1.573918</td>\n",
              "      <td>-0.253612</td>\n",
              "      <td>-0.076177</td>\n",
              "      <td>-0.422502</td>\n",
              "      <td>0</td>\n",
              "    </tr>\n",
              "    <tr>\n",
              "      <th>2</th>\n",
              "      <td>8</td>\n",
              "      <td>-1.181818</td>\n",
              "      <td>1</td>\n",
              "      <td>2</td>\n",
              "      <td>-0.481141</td>\n",
              "      <td>-0.564929</td>\n",
              "      <td>1.573918</td>\n",
              "      <td>-0.487288</td>\n",
              "      <td>-0.454668</td>\n",
              "      <td>-1.046675</td>\n",
              "      <td>0</td>\n",
              "    </tr>\n",
              "    <tr>\n",
              "      <th>3</th>\n",
              "      <td>9</td>\n",
              "      <td>-1.181818</td>\n",
              "      <td>4</td>\n",
              "      <td>2</td>\n",
              "      <td>0.583794</td>\n",
              "      <td>0.000000</td>\n",
              "      <td>1.573918</td>\n",
              "      <td>0.267228</td>\n",
              "      <td>0.767442</td>\n",
              "      <td>0.000000</td>\n",
              "      <td>0</td>\n",
              "    </tr>\n",
              "    <tr>\n",
              "      <th>4</th>\n",
              "      <td>11</td>\n",
              "      <td>-1.181818</td>\n",
              "      <td>1</td>\n",
              "      <td>2</td>\n",
              "      <td>-0.427894</td>\n",
              "      <td>-0.533284</td>\n",
              "      <td>1.573918</td>\n",
              "      <td>-0.449563</td>\n",
              "      <td>-0.393562</td>\n",
              "      <td>-0.805288</td>\n",
              "      <td>0</td>\n",
              "    </tr>\n",
              "  </tbody>\n",
              "</table>\n",
              "</div>\n",
              "    <div class=\"colab-df-buttons\">\n",
              "\n",
              "  <div class=\"colab-df-container\">\n",
              "    <button class=\"colab-df-convert\" onclick=\"convertToInteractive('df-994e5b88-07c2-42fc-b548-a853b03d0c39')\"\n",
              "            title=\"Convert this dataframe to an interactive table.\"\n",
              "            style=\"display:none;\">\n",
              "\n",
              "  <svg xmlns=\"http://www.w3.org/2000/svg\" height=\"24px\" viewBox=\"0 -960 960 960\">\n",
              "    <path d=\"M120-120v-720h720v720H120Zm60-500h600v-160H180v160Zm220 220h160v-160H400v160Zm0 220h160v-160H400v160ZM180-400h160v-160H180v160Zm440 0h160v-160H620v160ZM180-180h160v-160H180v160Zm440 0h160v-160H620v160Z\"/>\n",
              "  </svg>\n",
              "    </button>\n",
              "\n",
              "  <style>\n",
              "    .colab-df-container {\n",
              "      display:flex;\n",
              "      gap: 12px;\n",
              "    }\n",
              "\n",
              "    .colab-df-convert {\n",
              "      background-color: #E8F0FE;\n",
              "      border: none;\n",
              "      border-radius: 50%;\n",
              "      cursor: pointer;\n",
              "      display: none;\n",
              "      fill: #1967D2;\n",
              "      height: 32px;\n",
              "      padding: 0 0 0 0;\n",
              "      width: 32px;\n",
              "    }\n",
              "\n",
              "    .colab-df-convert:hover {\n",
              "      background-color: #E2EBFA;\n",
              "      box-shadow: 0px 1px 2px rgba(60, 64, 67, 0.3), 0px 1px 3px 1px rgba(60, 64, 67, 0.15);\n",
              "      fill: #174EA6;\n",
              "    }\n",
              "\n",
              "    .colab-df-buttons div {\n",
              "      margin-bottom: 4px;\n",
              "    }\n",
              "\n",
              "    [theme=dark] .colab-df-convert {\n",
              "      background-color: #3B4455;\n",
              "      fill: #D2E3FC;\n",
              "    }\n",
              "\n",
              "    [theme=dark] .colab-df-convert:hover {\n",
              "      background-color: #434B5C;\n",
              "      box-shadow: 0px 1px 3px 1px rgba(0, 0, 0, 0.15);\n",
              "      filter: drop-shadow(0px 1px 2px rgba(0, 0, 0, 0.3));\n",
              "      fill: #FFFFFF;\n",
              "    }\n",
              "  </style>\n",
              "\n",
              "    <script>\n",
              "      const buttonEl =\n",
              "        document.querySelector('#df-994e5b88-07c2-42fc-b548-a853b03d0c39 button.colab-df-convert');\n",
              "      buttonEl.style.display =\n",
              "        google.colab.kernel.accessAllowed ? 'block' : 'none';\n",
              "\n",
              "      async function convertToInteractive(key) {\n",
              "        const element = document.querySelector('#df-994e5b88-07c2-42fc-b548-a853b03d0c39');\n",
              "        const dataTable =\n",
              "          await google.colab.kernel.invokeFunction('convertToInteractive',\n",
              "                                                    [key], {});\n",
              "        if (!dataTable) return;\n",
              "\n",
              "        const docLinkHtml = 'Like what you see? Visit the ' +\n",
              "          '<a target=\"_blank\" href=https://colab.research.google.com/notebooks/data_table.ipynb>data table notebook</a>'\n",
              "          + ' to learn more about interactive tables.';\n",
              "        element.innerHTML = '';\n",
              "        dataTable['output_type'] = 'display_data';\n",
              "        await google.colab.output.renderOutput(dataTable, element);\n",
              "        const docLink = document.createElement('div');\n",
              "        docLink.innerHTML = docLinkHtml;\n",
              "        element.appendChild(docLink);\n",
              "      }\n",
              "    </script>\n",
              "  </div>\n",
              "\n",
              "\n",
              "<div id=\"df-82c3af5b-28aa-450e-91b4-f886f127a952\">\n",
              "  <button class=\"colab-df-quickchart\" onclick=\"quickchart('df-82c3af5b-28aa-450e-91b4-f886f127a952')\"\n",
              "            title=\"Suggest charts\"\n",
              "            style=\"display:none;\">\n",
              "\n",
              "<svg xmlns=\"http://www.w3.org/2000/svg\" height=\"24px\"viewBox=\"0 0 24 24\"\n",
              "     width=\"24px\">\n",
              "    <g>\n",
              "        <path d=\"M19 3H5c-1.1 0-2 .9-2 2v14c0 1.1.9 2 2 2h14c1.1 0 2-.9 2-2V5c0-1.1-.9-2-2-2zM9 17H7v-7h2v7zm4 0h-2V7h2v10zm4 0h-2v-4h2v4z\"/>\n",
              "    </g>\n",
              "</svg>\n",
              "  </button>\n",
              "\n",
              "<style>\n",
              "  .colab-df-quickchart {\n",
              "      --bg-color: #E8F0FE;\n",
              "      --fill-color: #1967D2;\n",
              "      --hover-bg-color: #E2EBFA;\n",
              "      --hover-fill-color: #174EA6;\n",
              "      --disabled-fill-color: #AAA;\n",
              "      --disabled-bg-color: #DDD;\n",
              "  }\n",
              "\n",
              "  [theme=dark] .colab-df-quickchart {\n",
              "      --bg-color: #3B4455;\n",
              "      --fill-color: #D2E3FC;\n",
              "      --hover-bg-color: #434B5C;\n",
              "      --hover-fill-color: #FFFFFF;\n",
              "      --disabled-bg-color: #3B4455;\n",
              "      --disabled-fill-color: #666;\n",
              "  }\n",
              "\n",
              "  .colab-df-quickchart {\n",
              "    background-color: var(--bg-color);\n",
              "    border: none;\n",
              "    border-radius: 50%;\n",
              "    cursor: pointer;\n",
              "    display: none;\n",
              "    fill: var(--fill-color);\n",
              "    height: 32px;\n",
              "    padding: 0;\n",
              "    width: 32px;\n",
              "  }\n",
              "\n",
              "  .colab-df-quickchart:hover {\n",
              "    background-color: var(--hover-bg-color);\n",
              "    box-shadow: 0 1px 2px rgba(60, 64, 67, 0.3), 0 1px 3px 1px rgba(60, 64, 67, 0.15);\n",
              "    fill: var(--button-hover-fill-color);\n",
              "  }\n",
              "\n",
              "  .colab-df-quickchart-complete:disabled,\n",
              "  .colab-df-quickchart-complete:disabled:hover {\n",
              "    background-color: var(--disabled-bg-color);\n",
              "    fill: var(--disabled-fill-color);\n",
              "    box-shadow: none;\n",
              "  }\n",
              "\n",
              "  .colab-df-spinner {\n",
              "    border: 2px solid var(--fill-color);\n",
              "    border-color: transparent;\n",
              "    border-bottom-color: var(--fill-color);\n",
              "    animation:\n",
              "      spin 1s steps(1) infinite;\n",
              "  }\n",
              "\n",
              "  @keyframes spin {\n",
              "    0% {\n",
              "      border-color: transparent;\n",
              "      border-bottom-color: var(--fill-color);\n",
              "      border-left-color: var(--fill-color);\n",
              "    }\n",
              "    20% {\n",
              "      border-color: transparent;\n",
              "      border-left-color: var(--fill-color);\n",
              "      border-top-color: var(--fill-color);\n",
              "    }\n",
              "    30% {\n",
              "      border-color: transparent;\n",
              "      border-left-color: var(--fill-color);\n",
              "      border-top-color: var(--fill-color);\n",
              "      border-right-color: var(--fill-color);\n",
              "    }\n",
              "    40% {\n",
              "      border-color: transparent;\n",
              "      border-right-color: var(--fill-color);\n",
              "      border-top-color: var(--fill-color);\n",
              "    }\n",
              "    60% {\n",
              "      border-color: transparent;\n",
              "      border-right-color: var(--fill-color);\n",
              "    }\n",
              "    80% {\n",
              "      border-color: transparent;\n",
              "      border-right-color: var(--fill-color);\n",
              "      border-bottom-color: var(--fill-color);\n",
              "    }\n",
              "    90% {\n",
              "      border-color: transparent;\n",
              "      border-bottom-color: var(--fill-color);\n",
              "    }\n",
              "  }\n",
              "</style>\n",
              "\n",
              "  <script>\n",
              "    async function quickchart(key) {\n",
              "      const quickchartButtonEl =\n",
              "        document.querySelector('#' + key + ' button');\n",
              "      quickchartButtonEl.disabled = true;  // To prevent multiple clicks.\n",
              "      quickchartButtonEl.classList.add('colab-df-spinner');\n",
              "      try {\n",
              "        const charts = await google.colab.kernel.invokeFunction(\n",
              "            'suggestCharts', [key], {});\n",
              "      } catch (error) {\n",
              "        console.error('Error during call to suggestCharts:', error);\n",
              "      }\n",
              "      quickchartButtonEl.classList.remove('colab-df-spinner');\n",
              "      quickchartButtonEl.classList.add('colab-df-quickchart-complete');\n",
              "    }\n",
              "    (() => {\n",
              "      let quickchartButtonEl =\n",
              "        document.querySelector('#df-82c3af5b-28aa-450e-91b4-f886f127a952 button');\n",
              "      quickchartButtonEl.style.display =\n",
              "        google.colab.kernel.accessAllowed ? 'block' : 'none';\n",
              "    })();\n",
              "  </script>\n",
              "</div>\n",
              "\n",
              "    </div>\n",
              "  </div>\n"
            ],
            "application/vnd.google.colaboratory.intrinsic+json": {
              "type": "dataframe",
              "variable_name": "clustered_df",
              "summary": "{\n  \"name\": \"clustered_df\",\n  \"rows\": 19689,\n  \"fields\": [\n    {\n      \"column\": \"Crop\",\n      \"properties\": {\n        \"dtype\": \"number\",\n        \"std\": 15,\n        \"min\": 0,\n        \"max\": 54,\n        \"num_unique_values\": 55,\n        \"samples\": [\n          17,\n          13,\n          19\n        ],\n        \"semantic_type\": \"\",\n        \"description\": \"\"\n      }\n    },\n    {\n      \"column\": \"Crop_Year\",\n      \"properties\": {\n        \"dtype\": \"number\",\n        \"std\": 0.5907362683084707,\n        \"min\": -1.181818181818182,\n        \"max\": 0.9090909090909092,\n        \"num_unique_values\": 24,\n        \"samples\": [\n          -0.4545454545454545,\n          0.2727272727272727,\n          -1.181818181818182\n        ],\n        \"semantic_type\": \"\",\n        \"description\": \"\"\n      }\n    },\n    {\n      \"column\": \"Season\",\n      \"properties\": {\n        \"dtype\": \"number\",\n        \"std\": 1,\n        \"min\": 0,\n        \"max\": 5,\n        \"num_unique_values\": 6,\n        \"samples\": [\n          4,\n          1,\n          5\n        ],\n        \"semantic_type\": \"\",\n        \"description\": \"\"\n      }\n    },\n    {\n      \"column\": \"State\",\n      \"properties\": {\n        \"dtype\": \"number\",\n        \"std\": 9,\n        \"min\": 0,\n        \"max\": 29,\n        \"num_unique_values\": 30,\n        \"samples\": [\n          25,\n          22,\n          11\n        ],\n        \"semantic_type\": \"\",\n        \"description\": \"\"\n      }\n    },\n    {\n      \"column\": \"Area\",\n      \"properties\": {\n        \"dtype\": \"number\",\n        \"std\": 2.0473381766897107,\n        \"min\": -0.5260587238848108,\n        \"max\": 9.957820440429137,\n        \"num_unique_values\": 10604,\n        \"samples\": [\n          -0.4696216826651609,\n          0.6666290231507623,\n          -0.3920383963862224\n        ],\n        \"semantic_type\": \"\",\n        \"description\": \"\"\n      }\n    },\n    {\n      \"column\": \"Production\",\n      \"properties\": {\n        \"dtype\": \"number\",\n        \"std\": 2.2635249551847267,\n        \"min\": -0.5658304640104935,\n        \"max\": 11.916379734382684,\n        \"num_unique_values\": 10659,\n        \"samples\": [\n          -0.4905722249549106,\n          -0.5464830300049188,\n          -0.2191752746351861\n        ],\n        \"semantic_type\": \"\",\n        \"description\": \"\"\n      }\n    },\n    {\n      \"column\": \"Annual_Rainfall\",\n      \"properties\": {\n        \"dtype\": \"number\",\n        \"std\": 0.9386756627907346,\n        \"min\": -1.8529469355786168,\n        \"max\": 2.80184061092618,\n        \"num_unique_values\": 552,\n        \"samples\": [\n          0.4168787938124145,\n          1.7773644018014494,\n          -1.691599765028392\n        ],\n        \"semantic_type\": \"\",\n        \"description\": \"\"\n      }\n    },\n    {\n      \"column\": \"Fertilizer\",\n      \"properties\": {\n        \"dtype\": \"number\",\n        \"std\": 1.9917802373034323,\n        \"min\": -0.519110507320786,\n        \"max\": 9.856699686404529,\n        \"num_unique_values\": 15506,\n        \"samples\": [\n          -0.4100455860546428,\n          -0.0450031676838813,\n          -0.1162719711658312\n        ],\n        \"semantic_type\": \"\",\n        \"description\": \"\"\n      }\n    },\n    {\n      \"column\": \"Pesticide\",\n      \"properties\": {\n        \"dtype\": \"number\",\n        \"std\": 2.0299727972356694,\n        \"min\": -0.5062290709487,\n        \"max\": 9.851330052968004,\n        \"num_unique_values\": 14374,\n        \"samples\": [\n          -0.2138619821823487,\n          2.183958261044059,\n          -0.3686334923348983\n        ],\n        \"semantic_type\": \"\",\n        \"description\": \"\"\n      }\n    },\n    {\n      \"column\": \"Yield\",\n      \"properties\": {\n        \"dtype\": \"number\",\n        \"std\": 1.1363769620657334,\n        \"min\": -1.3617788468085474,\n        \"max\": 5.342403848722309,\n        \"num_unique_values\": 10651,\n        \"samples\": [\n          2.0042289896654943,\n          2.1817548087412284,\n          -1.0522836544722516\n        ],\n        \"semantic_type\": \"\",\n        \"description\": \"\"\n      }\n    },\n    {\n      \"column\": \"Cluster\",\n      \"properties\": {\n        \"dtype\": \"number\",\n        \"std\": 0,\n        \"min\": 0,\n        \"max\": 2,\n        \"num_unique_values\": 3,\n        \"samples\": [\n          1,\n          0,\n          2\n        ],\n        \"semantic_type\": \"\",\n        \"description\": \"\"\n      }\n    }\n  ]\n}"
            }
          },
          "metadata": {},
          "execution_count": 2
        }
      ]
    },
    {
      "cell_type": "markdown",
      "source": [
        "Menampilkan informasi umum tentang dataset."
      ],
      "metadata": {
        "id": "Tx7ZLJKszcxN"
      }
    },
    {
      "cell_type": "code",
      "source": [
        "clustered_df.info()"
      ],
      "metadata": {
        "colab": {
          "base_uri": "https://localhost:8080/"
        },
        "id": "2JoKugz5zVLz",
        "outputId": "b5e3efe2-a7b9-4916-d5e6-baa62ba30dcc"
      },
      "execution_count": 3,
      "outputs": [
        {
          "output_type": "stream",
          "name": "stdout",
          "text": [
            "<class 'pandas.core.frame.DataFrame'>\n",
            "RangeIndex: 19689 entries, 0 to 19688\n",
            "Data columns (total 11 columns):\n",
            " #   Column           Non-Null Count  Dtype  \n",
            "---  ------           --------------  -----  \n",
            " 0   Crop             19689 non-null  int64  \n",
            " 1   Crop_Year        19689 non-null  float64\n",
            " 2   Season           19689 non-null  int64  \n",
            " 3   State            19689 non-null  int64  \n",
            " 4   Area             19689 non-null  float64\n",
            " 5   Production       19689 non-null  float64\n",
            " 6   Annual_Rainfall  19689 non-null  float64\n",
            " 7   Fertilizer       19689 non-null  float64\n",
            " 8   Pesticide        19689 non-null  float64\n",
            " 9   Yield            19689 non-null  float64\n",
            " 10  Cluster          19689 non-null  int64  \n",
            "dtypes: float64(7), int64(4)\n",
            "memory usage: 1.7 MB\n"
          ]
        }
      ]
    },
    {
      "cell_type": "markdown",
      "source": [
        "Fitur Cluster dalam dataset adalah Label target yang berisi hasil clustering. Fitur ini merupakan variabel yang ingin diprediksi dalam model klasifikasi."
      ],
      "metadata": {
        "id": "3wIC2T_bzpnV"
      }
    },
    {
      "cell_type": "markdown",
      "source": [
        "# **3. Data Splitting**"
      ],
      "metadata": {
        "id": "KkPem5eWL2UP"
      }
    },
    {
      "cell_type": "markdown",
      "source": [
        "Tahap Data Splitting bertujuan untuk memisahkan dataset menjadi dua bagian: data latih (training set) dan data uji (test set)."
      ],
      "metadata": {
        "id": "YYj1rl_JNI9Y"
      }
    },
    {
      "cell_type": "code",
      "source": [
        "clustered = clustered_df.copy()\n",
        "# Tentukan kolom mana yang akan di-robust scaling\n",
        "cols_scale = ['Crop', 'Season', 'State', 'Cluster']\n",
        "\n",
        "# Inisialisasi RobustScaler\n",
        "scaler = RobustScaler()\n",
        "\n",
        "# Terapkan RobustScaler hanya pada kolom yang dipilih\n",
        "clustered[cols_scale] = scaler.fit_transform(clustered[cols_scale])\n",
        "\n",
        "# Pisahkan fitur (X) dan target (y)\n",
        "X = clustered.drop(columns=['Cluster'])\n",
        "y = clustered['Cluster']\n",
        "\n",
        "# Split data menjadi set pelatihan dan set uji\n",
        "X_train, X_test, y_train, y_test = train_test_split(X, y, test_size=0.2, random_state=42)\n",
        "\n",
        "# Tampilkan bentuk set pelatihan dan set uji untuk memastikan split\n",
        "print(f\"Training set shape: X_train={X_train.shape}, y_train={y_train.shape}\")\n",
        "print(f\"Test set shape: X_test={X_test.shape}, y_test={y_test.shape}\")"
      ],
      "metadata": {
        "id": "OubAW-7ONKVj",
        "colab": {
          "base_uri": "https://localhost:8080/"
        },
        "outputId": "68ccbf1d-1f57-4aea-ea76-7f246a7d1eb0"
      },
      "execution_count": 16,
      "outputs": [
        {
          "output_type": "stream",
          "name": "stdout",
          "text": [
            "Training set shape: X_train=(15751, 10), y_train=(15751,)\n",
            "Test set shape: X_test=(3938, 10), y_test=(3938,)\n"
          ]
        }
      ]
    },
    {
      "cell_type": "code",
      "source": [
        "clustered.head()"
      ],
      "metadata": {
        "colab": {
          "base_uri": "https://localhost:8080/",
          "height": 226
        },
        "id": "uv7MomtitFvD",
        "outputId": "8eb5b0e6-a61f-400c-d05d-af496cb736d6"
      },
      "execution_count": 17,
      "outputs": [
        {
          "output_type": "execute_result",
          "data": {
            "text/plain": [
              "       Crop  Crop_Year  Season  State      Area  Production  Annual_Rainfall  \\\n",
              "0 -1.192308  -1.181818     1.0   -0.8  3.641841    1.758649         1.573918   \n",
              "1 -1.153846  -1.181818    -0.5   -0.8 -0.151327   -0.373791         1.573918   \n",
              "2 -0.884615  -1.181818    -0.5   -0.8 -0.481141   -0.564929         1.573918   \n",
              "3 -0.846154  -1.181818     1.0   -0.8  0.583794    0.000000         1.573918   \n",
              "4 -0.769231  -1.181818    -0.5   -0.8 -0.427894   -0.533284         1.573918   \n",
              "\n",
              "   Fertilizer  Pesticide     Yield  Cluster  \n",
              "0    2.433882   4.276830 -0.309260      1.0  \n",
              "1   -0.253612  -0.076177 -0.422502      0.0  \n",
              "2   -0.487288  -0.454668 -1.046675      0.0  \n",
              "3    0.267228   0.767442  0.000000      0.0  \n",
              "4   -0.449563  -0.393562 -0.805288      0.0  "
            ],
            "text/html": [
              "\n",
              "  <div id=\"df-492543e6-34c0-4bab-bea0-f513c452082d\" class=\"colab-df-container\">\n",
              "    <div>\n",
              "<style scoped>\n",
              "    .dataframe tbody tr th:only-of-type {\n",
              "        vertical-align: middle;\n",
              "    }\n",
              "\n",
              "    .dataframe tbody tr th {\n",
              "        vertical-align: top;\n",
              "    }\n",
              "\n",
              "    .dataframe thead th {\n",
              "        text-align: right;\n",
              "    }\n",
              "</style>\n",
              "<table border=\"1\" class=\"dataframe\">\n",
              "  <thead>\n",
              "    <tr style=\"text-align: right;\">\n",
              "      <th></th>\n",
              "      <th>Crop</th>\n",
              "      <th>Crop_Year</th>\n",
              "      <th>Season</th>\n",
              "      <th>State</th>\n",
              "      <th>Area</th>\n",
              "      <th>Production</th>\n",
              "      <th>Annual_Rainfall</th>\n",
              "      <th>Fertilizer</th>\n",
              "      <th>Pesticide</th>\n",
              "      <th>Yield</th>\n",
              "      <th>Cluster</th>\n",
              "    </tr>\n",
              "  </thead>\n",
              "  <tbody>\n",
              "    <tr>\n",
              "      <th>0</th>\n",
              "      <td>-1.192308</td>\n",
              "      <td>-1.181818</td>\n",
              "      <td>1.0</td>\n",
              "      <td>-0.8</td>\n",
              "      <td>3.641841</td>\n",
              "      <td>1.758649</td>\n",
              "      <td>1.573918</td>\n",
              "      <td>2.433882</td>\n",
              "      <td>4.276830</td>\n",
              "      <td>-0.309260</td>\n",
              "      <td>1.0</td>\n",
              "    </tr>\n",
              "    <tr>\n",
              "      <th>1</th>\n",
              "      <td>-1.153846</td>\n",
              "      <td>-1.181818</td>\n",
              "      <td>-0.5</td>\n",
              "      <td>-0.8</td>\n",
              "      <td>-0.151327</td>\n",
              "      <td>-0.373791</td>\n",
              "      <td>1.573918</td>\n",
              "      <td>-0.253612</td>\n",
              "      <td>-0.076177</td>\n",
              "      <td>-0.422502</td>\n",
              "      <td>0.0</td>\n",
              "    </tr>\n",
              "    <tr>\n",
              "      <th>2</th>\n",
              "      <td>-0.884615</td>\n",
              "      <td>-1.181818</td>\n",
              "      <td>-0.5</td>\n",
              "      <td>-0.8</td>\n",
              "      <td>-0.481141</td>\n",
              "      <td>-0.564929</td>\n",
              "      <td>1.573918</td>\n",
              "      <td>-0.487288</td>\n",
              "      <td>-0.454668</td>\n",
              "      <td>-1.046675</td>\n",
              "      <td>0.0</td>\n",
              "    </tr>\n",
              "    <tr>\n",
              "      <th>3</th>\n",
              "      <td>-0.846154</td>\n",
              "      <td>-1.181818</td>\n",
              "      <td>1.0</td>\n",
              "      <td>-0.8</td>\n",
              "      <td>0.583794</td>\n",
              "      <td>0.000000</td>\n",
              "      <td>1.573918</td>\n",
              "      <td>0.267228</td>\n",
              "      <td>0.767442</td>\n",
              "      <td>0.000000</td>\n",
              "      <td>0.0</td>\n",
              "    </tr>\n",
              "    <tr>\n",
              "      <th>4</th>\n",
              "      <td>-0.769231</td>\n",
              "      <td>-1.181818</td>\n",
              "      <td>-0.5</td>\n",
              "      <td>-0.8</td>\n",
              "      <td>-0.427894</td>\n",
              "      <td>-0.533284</td>\n",
              "      <td>1.573918</td>\n",
              "      <td>-0.449563</td>\n",
              "      <td>-0.393562</td>\n",
              "      <td>-0.805288</td>\n",
              "      <td>0.0</td>\n",
              "    </tr>\n",
              "  </tbody>\n",
              "</table>\n",
              "</div>\n",
              "    <div class=\"colab-df-buttons\">\n",
              "\n",
              "  <div class=\"colab-df-container\">\n",
              "    <button class=\"colab-df-convert\" onclick=\"convertToInteractive('df-492543e6-34c0-4bab-bea0-f513c452082d')\"\n",
              "            title=\"Convert this dataframe to an interactive table.\"\n",
              "            style=\"display:none;\">\n",
              "\n",
              "  <svg xmlns=\"http://www.w3.org/2000/svg\" height=\"24px\" viewBox=\"0 -960 960 960\">\n",
              "    <path d=\"M120-120v-720h720v720H120Zm60-500h600v-160H180v160Zm220 220h160v-160H400v160Zm0 220h160v-160H400v160ZM180-400h160v-160H180v160Zm440 0h160v-160H620v160ZM180-180h160v-160H180v160Zm440 0h160v-160H620v160Z\"/>\n",
              "  </svg>\n",
              "    </button>\n",
              "\n",
              "  <style>\n",
              "    .colab-df-container {\n",
              "      display:flex;\n",
              "      gap: 12px;\n",
              "    }\n",
              "\n",
              "    .colab-df-convert {\n",
              "      background-color: #E8F0FE;\n",
              "      border: none;\n",
              "      border-radius: 50%;\n",
              "      cursor: pointer;\n",
              "      display: none;\n",
              "      fill: #1967D2;\n",
              "      height: 32px;\n",
              "      padding: 0 0 0 0;\n",
              "      width: 32px;\n",
              "    }\n",
              "\n",
              "    .colab-df-convert:hover {\n",
              "      background-color: #E2EBFA;\n",
              "      box-shadow: 0px 1px 2px rgba(60, 64, 67, 0.3), 0px 1px 3px 1px rgba(60, 64, 67, 0.15);\n",
              "      fill: #174EA6;\n",
              "    }\n",
              "\n",
              "    .colab-df-buttons div {\n",
              "      margin-bottom: 4px;\n",
              "    }\n",
              "\n",
              "    [theme=dark] .colab-df-convert {\n",
              "      background-color: #3B4455;\n",
              "      fill: #D2E3FC;\n",
              "    }\n",
              "\n",
              "    [theme=dark] .colab-df-convert:hover {\n",
              "      background-color: #434B5C;\n",
              "      box-shadow: 0px 1px 3px 1px rgba(0, 0, 0, 0.15);\n",
              "      filter: drop-shadow(0px 1px 2px rgba(0, 0, 0, 0.3));\n",
              "      fill: #FFFFFF;\n",
              "    }\n",
              "  </style>\n",
              "\n",
              "    <script>\n",
              "      const buttonEl =\n",
              "        document.querySelector('#df-492543e6-34c0-4bab-bea0-f513c452082d button.colab-df-convert');\n",
              "      buttonEl.style.display =\n",
              "        google.colab.kernel.accessAllowed ? 'block' : 'none';\n",
              "\n",
              "      async function convertToInteractive(key) {\n",
              "        const element = document.querySelector('#df-492543e6-34c0-4bab-bea0-f513c452082d');\n",
              "        const dataTable =\n",
              "          await google.colab.kernel.invokeFunction('convertToInteractive',\n",
              "                                                    [key], {});\n",
              "        if (!dataTable) return;\n",
              "\n",
              "        const docLinkHtml = 'Like what you see? Visit the ' +\n",
              "          '<a target=\"_blank\" href=https://colab.research.google.com/notebooks/data_table.ipynb>data table notebook</a>'\n",
              "          + ' to learn more about interactive tables.';\n",
              "        element.innerHTML = '';\n",
              "        dataTable['output_type'] = 'display_data';\n",
              "        await google.colab.output.renderOutput(dataTable, element);\n",
              "        const docLink = document.createElement('div');\n",
              "        docLink.innerHTML = docLinkHtml;\n",
              "        element.appendChild(docLink);\n",
              "      }\n",
              "    </script>\n",
              "  </div>\n",
              "\n",
              "\n",
              "<div id=\"df-bd782dd8-774f-4844-bda2-b6e19f4de8b4\">\n",
              "  <button class=\"colab-df-quickchart\" onclick=\"quickchart('df-bd782dd8-774f-4844-bda2-b6e19f4de8b4')\"\n",
              "            title=\"Suggest charts\"\n",
              "            style=\"display:none;\">\n",
              "\n",
              "<svg xmlns=\"http://www.w3.org/2000/svg\" height=\"24px\"viewBox=\"0 0 24 24\"\n",
              "     width=\"24px\">\n",
              "    <g>\n",
              "        <path d=\"M19 3H5c-1.1 0-2 .9-2 2v14c0 1.1.9 2 2 2h14c1.1 0 2-.9 2-2V5c0-1.1-.9-2-2-2zM9 17H7v-7h2v7zm4 0h-2V7h2v10zm4 0h-2v-4h2v4z\"/>\n",
              "    </g>\n",
              "</svg>\n",
              "  </button>\n",
              "\n",
              "<style>\n",
              "  .colab-df-quickchart {\n",
              "      --bg-color: #E8F0FE;\n",
              "      --fill-color: #1967D2;\n",
              "      --hover-bg-color: #E2EBFA;\n",
              "      --hover-fill-color: #174EA6;\n",
              "      --disabled-fill-color: #AAA;\n",
              "      --disabled-bg-color: #DDD;\n",
              "  }\n",
              "\n",
              "  [theme=dark] .colab-df-quickchart {\n",
              "      --bg-color: #3B4455;\n",
              "      --fill-color: #D2E3FC;\n",
              "      --hover-bg-color: #434B5C;\n",
              "      --hover-fill-color: #FFFFFF;\n",
              "      --disabled-bg-color: #3B4455;\n",
              "      --disabled-fill-color: #666;\n",
              "  }\n",
              "\n",
              "  .colab-df-quickchart {\n",
              "    background-color: var(--bg-color);\n",
              "    border: none;\n",
              "    border-radius: 50%;\n",
              "    cursor: pointer;\n",
              "    display: none;\n",
              "    fill: var(--fill-color);\n",
              "    height: 32px;\n",
              "    padding: 0;\n",
              "    width: 32px;\n",
              "  }\n",
              "\n",
              "  .colab-df-quickchart:hover {\n",
              "    background-color: var(--hover-bg-color);\n",
              "    box-shadow: 0 1px 2px rgba(60, 64, 67, 0.3), 0 1px 3px 1px rgba(60, 64, 67, 0.15);\n",
              "    fill: var(--button-hover-fill-color);\n",
              "  }\n",
              "\n",
              "  .colab-df-quickchart-complete:disabled,\n",
              "  .colab-df-quickchart-complete:disabled:hover {\n",
              "    background-color: var(--disabled-bg-color);\n",
              "    fill: var(--disabled-fill-color);\n",
              "    box-shadow: none;\n",
              "  }\n",
              "\n",
              "  .colab-df-spinner {\n",
              "    border: 2px solid var(--fill-color);\n",
              "    border-color: transparent;\n",
              "    border-bottom-color: var(--fill-color);\n",
              "    animation:\n",
              "      spin 1s steps(1) infinite;\n",
              "  }\n",
              "\n",
              "  @keyframes spin {\n",
              "    0% {\n",
              "      border-color: transparent;\n",
              "      border-bottom-color: var(--fill-color);\n",
              "      border-left-color: var(--fill-color);\n",
              "    }\n",
              "    20% {\n",
              "      border-color: transparent;\n",
              "      border-left-color: var(--fill-color);\n",
              "      border-top-color: var(--fill-color);\n",
              "    }\n",
              "    30% {\n",
              "      border-color: transparent;\n",
              "      border-left-color: var(--fill-color);\n",
              "      border-top-color: var(--fill-color);\n",
              "      border-right-color: var(--fill-color);\n",
              "    }\n",
              "    40% {\n",
              "      border-color: transparent;\n",
              "      border-right-color: var(--fill-color);\n",
              "      border-top-color: var(--fill-color);\n",
              "    }\n",
              "    60% {\n",
              "      border-color: transparent;\n",
              "      border-right-color: var(--fill-color);\n",
              "    }\n",
              "    80% {\n",
              "      border-color: transparent;\n",
              "      border-right-color: var(--fill-color);\n",
              "      border-bottom-color: var(--fill-color);\n",
              "    }\n",
              "    90% {\n",
              "      border-color: transparent;\n",
              "      border-bottom-color: var(--fill-color);\n",
              "    }\n",
              "  }\n",
              "</style>\n",
              "\n",
              "  <script>\n",
              "    async function quickchart(key) {\n",
              "      const quickchartButtonEl =\n",
              "        document.querySelector('#' + key + ' button');\n",
              "      quickchartButtonEl.disabled = true;  // To prevent multiple clicks.\n",
              "      quickchartButtonEl.classList.add('colab-df-spinner');\n",
              "      try {\n",
              "        const charts = await google.colab.kernel.invokeFunction(\n",
              "            'suggestCharts', [key], {});\n",
              "      } catch (error) {\n",
              "        console.error('Error during call to suggestCharts:', error);\n",
              "      }\n",
              "      quickchartButtonEl.classList.remove('colab-df-spinner');\n",
              "      quickchartButtonEl.classList.add('colab-df-quickchart-complete');\n",
              "    }\n",
              "    (() => {\n",
              "      let quickchartButtonEl =\n",
              "        document.querySelector('#df-bd782dd8-774f-4844-bda2-b6e19f4de8b4 button');\n",
              "      quickchartButtonEl.style.display =\n",
              "        google.colab.kernel.accessAllowed ? 'block' : 'none';\n",
              "    })();\n",
              "  </script>\n",
              "</div>\n",
              "\n",
              "    </div>\n",
              "  </div>\n"
            ],
            "application/vnd.google.colaboratory.intrinsic+json": {
              "type": "dataframe",
              "variable_name": "clustered",
              "summary": "{\n  \"name\": \"clustered\",\n  \"rows\": 19689,\n  \"fields\": [\n    {\n      \"column\": \"Crop\",\n      \"properties\": {\n        \"dtype\": \"number\",\n        \"std\": 0.5984944811479966,\n        \"min\": -1.1923076923076923,\n        \"max\": 0.8846153846153846,\n        \"num_unique_values\": 55,\n        \"samples\": [\n          -0.5384615384615384,\n          -0.6923076923076923,\n          -0.46153846153846156\n        ],\n        \"semantic_type\": \"\",\n        \"description\": \"\"\n      }\n    },\n    {\n      \"column\": \"Crop_Year\",\n      \"properties\": {\n        \"dtype\": \"number\",\n        \"std\": 0.5907362683084707,\n        \"min\": -1.181818181818182,\n        \"max\": 0.9090909090909092,\n        \"num_unique_values\": 24,\n        \"samples\": [\n          -0.4545454545454545,\n          0.2727272727272727,\n          -1.181818181818182\n        ],\n        \"semantic_type\": \"\",\n        \"description\": \"\"\n      }\n    },\n    {\n      \"column\": \"Season\",\n      \"properties\": {\n        \"dtype\": \"number\",\n        \"std\": 0.6112567341443764,\n        \"min\": -1.0,\n        \"max\": 1.5,\n        \"num_unique_values\": 6,\n        \"samples\": [\n          1.0,\n          -0.5,\n          1.5\n        ],\n        \"semantic_type\": \"\",\n        \"description\": \"\"\n      }\n    },\n    {\n      \"column\": \"State\",\n      \"properties\": {\n        \"dtype\": \"number\",\n        \"std\": 0.6000307124818196,\n        \"min\": -0.9333333333333333,\n        \"max\": 1.0,\n        \"num_unique_values\": 30,\n        \"samples\": [\n          0.7333333333333333,\n          0.5333333333333333,\n          -0.2\n        ],\n        \"semantic_type\": \"\",\n        \"description\": \"\"\n      }\n    },\n    {\n      \"column\": \"Area\",\n      \"properties\": {\n        \"dtype\": \"number\",\n        \"std\": 2.0473381766897107,\n        \"min\": -0.5260587238848108,\n        \"max\": 9.957820440429137,\n        \"num_unique_values\": 10604,\n        \"samples\": [\n          -0.4696216826651609,\n          0.6666290231507623,\n          -0.3920383963862224\n        ],\n        \"semantic_type\": \"\",\n        \"description\": \"\"\n      }\n    },\n    {\n      \"column\": \"Production\",\n      \"properties\": {\n        \"dtype\": \"number\",\n        \"std\": 2.2635249551847267,\n        \"min\": -0.5658304640104935,\n        \"max\": 11.916379734382684,\n        \"num_unique_values\": 10659,\n        \"samples\": [\n          -0.4905722249549106,\n          -0.5464830300049188,\n          -0.2191752746351861\n        ],\n        \"semantic_type\": \"\",\n        \"description\": \"\"\n      }\n    },\n    {\n      \"column\": \"Annual_Rainfall\",\n      \"properties\": {\n        \"dtype\": \"number\",\n        \"std\": 0.9386756627907346,\n        \"min\": -1.8529469355786168,\n        \"max\": 2.80184061092618,\n        \"num_unique_values\": 552,\n        \"samples\": [\n          0.4168787938124145,\n          1.7773644018014494,\n          -1.691599765028392\n        ],\n        \"semantic_type\": \"\",\n        \"description\": \"\"\n      }\n    },\n    {\n      \"column\": \"Fertilizer\",\n      \"properties\": {\n        \"dtype\": \"number\",\n        \"std\": 1.9917802373034323,\n        \"min\": -0.519110507320786,\n        \"max\": 9.856699686404529,\n        \"num_unique_values\": 15506,\n        \"samples\": [\n          -0.4100455860546428,\n          -0.0450031676838813,\n          -0.1162719711658312\n        ],\n        \"semantic_type\": \"\",\n        \"description\": \"\"\n      }\n    },\n    {\n      \"column\": \"Pesticide\",\n      \"properties\": {\n        \"dtype\": \"number\",\n        \"std\": 2.0299727972356694,\n        \"min\": -0.5062290709487,\n        \"max\": 9.851330052968004,\n        \"num_unique_values\": 14374,\n        \"samples\": [\n          -0.2138619821823487,\n          2.183958261044059,\n          -0.3686334923348983\n        ],\n        \"semantic_type\": \"\",\n        \"description\": \"\"\n      }\n    },\n    {\n      \"column\": \"Yield\",\n      \"properties\": {\n        \"dtype\": \"number\",\n        \"std\": 1.1363769620657334,\n        \"min\": -1.3617788468085474,\n        \"max\": 5.342403848722309,\n        \"num_unique_values\": 10651,\n        \"samples\": [\n          2.0042289896654943,\n          2.1817548087412284,\n          -1.0522836544722516\n        ],\n        \"semantic_type\": \"\",\n        \"description\": \"\"\n      }\n    },\n    {\n      \"column\": \"Cluster\",\n      \"properties\": {\n        \"dtype\": \"number\",\n        \"std\": 0.5794014342570968,\n        \"min\": 0.0,\n        \"max\": 2.0,\n        \"num_unique_values\": 3,\n        \"samples\": [\n          1.0,\n          0.0,\n          2.0\n        ],\n        \"semantic_type\": \"\",\n        \"description\": \"\"\n      }\n    }\n  ]\n}"
            }
          },
          "metadata": {},
          "execution_count": 17
        }
      ]
    },
    {
      "cell_type": "markdown",
      "source": [
        "# **4. Membangun Model Klasifikasi**\n"
      ],
      "metadata": {
        "id": "IVPbB03CMhTT"
      }
    },
    {
      "cell_type": "markdown",
      "source": [
        "## **a. Membangun Model Klasifikasi**"
      ],
      "metadata": {
        "id": "Ned1pL9zMmBK"
      }
    },
    {
      "cell_type": "markdown",
      "source": [
        "Setelah memilih algoritma klasifikasi yang sesuai, langkah selanjutnya adalah melatih model menggunakan data latih.\n",
        "\n",
        "Berikut adalah rekomendasi tahapannya.\n",
        "1. Pilih algoritma klasifikasi yang sesuai, seperti Logistic Regression, Decision Tree, Random Forest, atau K-Nearest Neighbors (KNN).\n",
        "2. Latih model menggunakan data latih."
      ],
      "metadata": {
        "id": "WAWzPOE4Nkti"
      }
    },
    {
      "cell_type": "code",
      "source": [
        "# Definisikan setiap klasifikasi secara terpisah\n",
        "knn = KNeighborsClassifier().fit(X_train, y_train)\n",
        "dt = DecisionTreeClassifier().fit(X_train, y_train)\n",
        "rf = RandomForestClassifier().fit(X_train, y_train)\n",
        "svm = SVC().fit(X_train, y_train)\n",
        "nb = GaussianNB().fit(X_train, y_train)\n",
        "\n",
        "print(\"Model training selesai.\")"
      ],
      "metadata": {
        "id": "4JYxBe87NLDk",
        "colab": {
          "base_uri": "https://localhost:8080/"
        },
        "outputId": "e3d5204d-9674-4d36-e44c-dc28a24f8fb5"
      },
      "execution_count": 18,
      "outputs": [
        {
          "output_type": "stream",
          "name": "stdout",
          "text": [
            "Model training selesai.\n"
          ]
        }
      ]
    },
    {
      "cell_type": "markdown",
      "source": [
        "Tulis narasi atau penjelasan algoritma yang Anda gunakan."
      ],
      "metadata": {
        "id": "seYoHNY3XU1y"
      }
    },
    {
      "cell_type": "markdown",
      "source": [
        "## **b. Evaluasi Model Klasifikasi**"
      ],
      "metadata": {
        "id": "ergzChZFEL-O"
      }
    },
    {
      "cell_type": "markdown",
      "source": [
        "Berikut adalah **rekomendasi** tahapannya.\n",
        "1. Lakukan prediksi menggunakan data uji.\n",
        "2. Hitung metrik evaluasi seperti Accuracy dan F1-Score (Opsional: Precision dan Recall).\n",
        "3. Buat confusion matrix untuk melihat detail prediksi benar dan salah."
      ],
      "metadata": {
        "id": "zOm68u-7NpLT"
      }
    },
    {
      "cell_type": "code",
      "source": [
        "# Fungsi untuk mengevaluasi dan mengembalikan hasil sebagai kamus\n",
        "def evaluate_model(model, X_test, y_test):\n",
        "    y_pred = model.predict(X_test)\n",
        "    results = {\n",
        "        'Accuracy': accuracy_score(y_test, y_pred),\n",
        "        'Precision': precision_score(y_test, y_pred, average='macro'),\n",
        "        'Recall': recall_score(y_test, y_pred, average='macro'),\n",
        "        'F1-Score': f1_score(y_test, y_pred, average='macro')\n",
        "    }\n",
        "    return results\n",
        "\n",
        "# Mengevaluasi setiap model dan mengumpulkan hasilnya\n",
        "results = {\n",
        "    'K-Nearest Neighbors (KNN)': evaluate_model(knn, X_test, y_test),\n",
        "    'Decision Tree (DT)': evaluate_model(dt, X_test, y_test),\n",
        "    'Random Forest (RF)': evaluate_model(rf, X_test, y_test),\n",
        "    'Support Vector Machine (SVM)': evaluate_model(svm, X_test, y_test),\n",
        "    'Naive Bayes (NB)': evaluate_model(nb, X_test, y_test)\n",
        "}\n",
        "\n",
        "# Buat DataFrame untuk meringkas hasil\n",
        "summary_df = pd.DataFrame(columns=['Model', 'Accuracy', 'Precision', 'Recall', 'F1-Score'])\n",
        "\n",
        "# Isi DataFrame dengan hasil\n",
        "rows = []\n",
        "for model_name, metrics in results.items():\n",
        "    rows.append({\n",
        "        'Model': model_name,\n",
        "        'Accuracy': metrics['Accuracy'],\n",
        "        'Precision': metrics['Precision'],\n",
        "        'Recall': metrics['Recall'],\n",
        "        'F1-Score': metrics['F1-Score']\n",
        "    })\n",
        "\n",
        "# Konversi daftar kamus ke DataFrame\n",
        "summary_df = pd.DataFrame(rows)\n",
        "\n",
        "# Tampilkan DataFrame\n",
        "print(summary_df)"
      ],
      "metadata": {
        "id": "tMq4QAssNLip",
        "colab": {
          "base_uri": "https://localhost:8080/"
        },
        "outputId": "483ef601-da46-438d-c4d2-ebef7ed029ba"
      },
      "execution_count": 19,
      "outputs": [
        {
          "output_type": "stream",
          "name": "stdout",
          "text": [
            "                          Model  Accuracy  Precision    Recall  F1-Score\n",
            "0     K-Nearest Neighbors (KNN)  0.992636   0.989050  0.980579  0.984747\n",
            "1            Decision Tree (DT)  0.994159   0.988142  0.982209  0.985102\n",
            "2            Random Forest (RF)  0.996191   0.991641  0.987254  0.989386\n",
            "3  Support Vector Machine (SVM)  0.996953   0.995584  0.991289  0.993409\n",
            "4              Naive Bayes (NB)  0.945658   0.856599  0.940845  0.893285\n"
          ]
        }
      ]
    },
    {
      "cell_type": "markdown",
      "source": [
        "### **Hasil dari evaluasi berbagai model klasifikasi**"
      ],
      "metadata": {
        "id": "H4_9OwrsXZlz"
      }
    },
    {
      "cell_type": "markdown",
      "source": [
        "#### **Hasil Confusion Matrix Algoritma KNN**"
      ],
      "metadata": {
        "id": "16WJrkKm3_8m"
      }
    },
    {
      "cell_type": "code",
      "source": [
        "y_pred_knn = knn.predict(X_test)\n",
        "cm_knn = confusion_matrix(y_test, y_pred_knn)\n",
        "\n",
        "# Heatmap Confusion Matrix\n",
        "plt.figure(figsize=(6, 4))\n",
        "sns.heatmap(cm_knn, annot=True, cmap='copper', fmt='d', linewidths=0.5)\n",
        "plt.title('KNN Confusion Matrix')\n",
        "plt.show()"
      ],
      "metadata": {
        "colab": {
          "base_uri": "https://localhost:8080/",
          "height": 391
        },
        "id": "W9rRo3b65Dku",
        "outputId": "06ef6e05-2052-4486-8ed2-4406f2b8ea41"
      },
      "execution_count": 30,
      "outputs": [
        {
          "output_type": "display_data",
          "data": {
            "text/plain": [
              "<Figure size 600x400 with 2 Axes>"
            ],
            "image/png": "[encoded data removed]"
          },
          "metadata": {}
        }
      ]
    },
    {
      "cell_type": "markdown",
      "source": [
        "* Cluster 0: ada 3109 yang benar diprediksi sebagai Cluster 0, ada 7 yang salah diprediksi sebagai Cluster 1, dan ada 1 yang salah diprediksi sebagai Cluster 2.\n",
        "* Cluster 1: ada 526 yang benar diprediksi sebagai Cluster 1, ada 10 yang salah diprediksi sebagai Cluster 0, dan ada 1 yang salah prediksi sebagai Cluster 2.\n",
        "* Cluster 2: ada 274 yang benar diprediksi sebagai Cluster 2, ada 18 yang salah diprediksi sebagai Cluster 0, dan ada 18 yang salah diprediksi sebagai Cluster 1."
      ],
      "metadata": {
        "id": "3SzOw-RgAFlg"
      }
    },
    {
      "cell_type": "markdown",
      "source": [
        "#### **Hasil Confusion Matrix Algoritma Decision Tree**"
      ],
      "metadata": {
        "id": "NW4-AKzK4vtW"
      }
    },
    {
      "cell_type": "code",
      "source": [
        "y_pred_dt = dt.predict(X_test)\n",
        "cm_dt = confusion_matrix(y_test, y_pred_dt)\n",
        "\n",
        "# Heatmap Confusion Matrix\n",
        "plt.figure(figsize=(6, 4))\n",
        "sns.heatmap(cm_dt, annot=True, cmap='YlGn', fmt='d', linewidths=0.5)\n",
        "plt.title('Decision Tree Confusion Matrix')\n",
        "plt.show()"
      ],
      "metadata": {
        "colab": {
          "base_uri": "https://localhost:8080/",
          "height": 391
        },
        "id": "cpKgN7AR2zWq",
        "outputId": "7f76cac7-f692-4692-f3c5-39e746f6af7c"
      },
      "execution_count": 31,
      "outputs": [
        {
          "output_type": "display_data",
          "data": {
            "text/plain": [
              "<Figure size 600x400 with 2 Axes>"
            ],
            "image/png": "[encoded data removed]"
          },
          "metadata": {}
        }
      ]
    },
    {
      "cell_type": "markdown",
      "source": [
        "* Cluster 0: ada 3112 yang benar diprediksi sebagai Cluster 0, ada 4 yang salah diprediksi sebagai Cluster 1, dan ada 1 yang salah diprediksi sebagai Cluster 2.\n",
        "* Cluster 1: ada 530 yang benar diprediksi sebagai Cluster 1, ada 5 yang salah diprediksi sebagai Cluster 0, dan ada 2 yang salah prediksi sebagai Cluster 2.\n",
        "* Cluster 2: ada 273 yang benar diprediksi sebagai Cluster 2, ada 3 yang salah diprediksi sebagai Cluster 0, dan ada 8 yang salah diprediksi sebagai Cluster 1."
      ],
      "metadata": {
        "id": "NR-1Mrcv-aHN"
      }
    },
    {
      "cell_type": "markdown",
      "source": [
        "#### **Hasil Confusion Matrix Algoritma Random Forest**"
      ],
      "metadata": {
        "id": "3BZO-N8_5eiz"
      }
    },
    {
      "cell_type": "code",
      "source": [
        "y_pred_rf = rf.predict(X_test)\n",
        "cm_rf = confusion_matrix(y_test, y_pred_rf)\n",
        "\n",
        "# Heatmap Confusion Matrix\n",
        "plt.figure(figsize=(6, 4))\n",
        "sns.heatmap(cm_rf, annot=True, cmap='BuGn', fmt='d', linewidths=0.5)\n",
        "plt.title('Random Forest Confusion Matrix')\n",
        "plt.show()"
      ],
      "metadata": {
        "colab": {
          "base_uri": "https://localhost:8080/",
          "height": 391
        },
        "outputId": "b57e6707-2939-4046-82e5-6467efba0f57",
        "id": "BZu8hUsi5ei0"
      },
      "execution_count": 33,
      "outputs": [
        {
          "output_type": "display_data",
          "data": {
            "text/plain": [
              "<Figure size 600x400 with 2 Axes>"
            ],
            "image/png": "[encoded data removed]"
          },
          "metadata": {}
        }
      ]
    },
    {
      "cell_type": "markdown",
      "source": [
        "* Cluster 0: ada 3114 yang benar diprediksi sebagai Cluster 0, ada 3 yang salah diprediksi sebagai Cluster 1, dan ada 0 yang salah diprediksi sebagai Cluster 2.\n",
        "* Cluster 1: ada 534 yang benar diprediksi sebagai Cluster 1, ada 1 yang salah diprediksi sebagai Cluster 0, dan ada 2 yang salah prediksi sebagai Cluster 2.\n",
        "* Cluster 2: ada 275 yang benar diprediksi sebagai Cluster 2, ada 3 yang salah diprediksi sebagai Cluster 0, dan ada 6 yang salah diprediksi sebagai Cluster 1."
      ],
      "metadata": {
        "id": "bZWmSJd65ei0"
      }
    },
    {
      "cell_type": "markdown",
      "source": [
        "#### **Hasil Confusion Matrix Algoritma SVM**"
      ],
      "metadata": {
        "id": "bDfiddQK_cNx"
      }
    },
    {
      "cell_type": "code",
      "source": [
        "y_pred_svm = svm.predict(X_test)\n",
        "cm_svm = confusion_matrix(y_test, y_pred_svm)\n",
        "\n",
        "# Heatmap Confusion Matrix\n",
        "plt.figure(figsize=(6, 4))\n",
        "sns.heatmap(cm_svm, annot=True, cmap='YlOrRd', fmt='d', linewidths=0.5)\n",
        "plt.title('SVM Confusion Matrix')\n",
        "plt.show()"
      ],
      "metadata": {
        "colab": {
          "base_uri": "https://localhost:8080/",
          "height": 391
        },
        "outputId": "dc8b388f-6bb3-4d49-9f78-f01714798da7",
        "id": "BTxpoNWZ_cNz"
      },
      "execution_count": 36,
      "outputs": [
        {
          "output_type": "display_data",
          "data": {
            "text/plain": [
              "<Figure size 600x400 with 2 Axes>"
            ],
            "image/png": "[encoded data removed]"
          },
          "metadata": {}
        }
      ]
    },
    {
      "cell_type": "markdown",
      "source": [
        "* Cluster 0: ada 3113 yang benar diprediksi sebagai Cluster 0, ada 3 yang salah diprediksi sebagai Cluster 1, dan ada 1 yang salah diprediksi sebagai Cluster 2.\n",
        "* Cluster 1: ada 535 yang benar diprediksi sebagai Cluster 1, ada 2 yang salah diprediksi sebagai Cluster 0, dan ada 0 yang salah prediksi sebagai Cluster 2.\n",
        "* Cluster 2: ada 278 yang benar diprediksi sebagai Cluster 2, ada 5 yang salah diprediksi sebagai Cluster 0, dan ada 1 yang salah diprediksi sebagai Cluster 1."
      ],
      "metadata": {
        "id": "32f7TXYt_cNz"
      }
    },
    {
      "cell_type": "markdown",
      "source": [
        "#### **Hasil Confusion Matrix Algoritma Naive Bayes**"
      ],
      "metadata": {
        "id": "g3jD7i5uAGwe"
      }
    },
    {
      "cell_type": "code",
      "source": [
        "y_pred_nb = nb.predict(X_test)\n",
        "cm_nb = confusion_matrix(y_test, y_pred_nb)\n",
        "\n",
        "# Heatmap Confusion Matrix\n",
        "plt.figure(figsize=(6, 4))\n",
        "sns.heatmap(cm_nb, annot=True, cmap='Greys', fmt='d', linewidths=0.5)\n",
        "plt.title('Naive Bayes Confusion Matrix')\n",
        "plt.show()"
      ],
      "metadata": {
        "colab": {
          "base_uri": "https://localhost:8080/",
          "height": 391
        },
        "outputId": "017020ff-c9ff-49a4-e3a7-21be7b39d5de",
        "id": "X6uYOls8AGwf"
      },
      "execution_count": 42,
      "outputs": [
        {
          "output_type": "display_data",
          "data": {
            "text/plain": [
              "<Figure size 600x400 with 2 Axes>"
            ],
            "image/png": "[encoded data removed]"
          },
          "metadata": {}
        }
      ]
    },
    {
      "cell_type": "markdown",
      "source": [
        "* Cluster 0: ada 2937 yang benar diprediksi sebagai Cluster 0, ada 110 yang salah diprediksi sebagai Cluster 1, dan ada 70 yang salah diprediksi sebagai Cluster 2.\n",
        "* Cluster 1: ada 537 yang benar diprediksi sebagai Cluster 0, ada 0 yang salah diprediksii sebagai Cluster 0, dan ada 0 yang salah prediksi sebagai Cluster 2.\n",
        "* Cluster 2: ada 250 yang benar diprediksi sebagai Cluster 2, ada 0 yang salah diprediksi sebagai Cluster 0, dan ada 34 yang salah diprediksi sebagai Cluster 1."
      ],
      "metadata": {
        "id": "rzHWnFhdAGwg"
      }
    },
    {
      "cell_type": "markdown",
      "source": [
        "### **Rangkuman Hasil**"
      ],
      "metadata": {
        "id": "IEKz1b54GNnb"
      }
    },
    {
      "cell_type": "markdown",
      "source": [
        "Berikut adalah ringkasan hasil evaluasi untuk masing-masing model klasifikas"
      ],
      "metadata": {
        "id": "IER6GqYLGQqv"
      }
    },
    {
      "cell_type": "code",
      "source": [
        "summary_df"
      ],
      "metadata": {
        "colab": {
          "base_uri": "https://localhost:8080/",
          "height": 206
        },
        "id": "pMX1wSANGTTl",
        "outputId": "4d8269f6-59a2-43b1-d057-c0c2a4eb6bf9"
      },
      "execution_count": 47,
      "outputs": [
        {
          "output_type": "execute_result",
          "data": {
            "text/plain": [
              "                          Model  Accuracy  Precision    Recall  F1-Score\n",
              "0     K-Nearest Neighbors (KNN)  0.992636   0.989050  0.980579  0.984747\n",
              "1            Decision Tree (DT)  0.994159   0.988142  0.982209  0.985102\n",
              "2            Random Forest (RF)  0.996191   0.991641  0.987254  0.989386\n",
              "3  Support Vector Machine (SVM)  0.996953   0.995584  0.991289  0.993409\n",
              "4              Naive Bayes (NB)  0.945658   0.856599  0.940845  0.893285"
            ],
            "text/html": [
              "\n",
              "  <div id=\"df-439b9203-e462-43b0-a5b4-0af5c1d1f93b\" class=\"colab-df-container\">\n",
              "    <div>\n",
              "<style scoped>\n",
              "    .dataframe tbody tr th:only-of-type {\n",
              "        vertical-align: middle;\n",
              "    }\n",
              "\n",
              "    .dataframe tbody tr th {\n",
              "        vertical-align: top;\n",
              "    }\n",
              "\n",
              "    .dataframe thead th {\n",
              "        text-align: right;\n",
              "    }\n",
              "</style>\n",
              "<table border=\"1\" class=\"dataframe\">\n",
              "  <thead>\n",
              "    <tr style=\"text-align: right;\">\n",
              "      <th></th>\n",
              "      <th>Model</th>\n",
              "      <th>Accuracy</th>\n",
              "      <th>Precision</th>\n",
              "      <th>Recall</th>\n",
              "      <th>F1-Score</th>\n",
              "    </tr>\n",
              "  </thead>\n",
              "  <tbody>\n",
              "    <tr>\n",
              "      <th>0</th>\n",
              "      <td>K-Nearest Neighbors (KNN)</td>\n",
              "      <td>0.992636</td>\n",
              "      <td>0.989050</td>\n",
              "      <td>0.980579</td>\n",
              "      <td>0.984747</td>\n",
              "    </tr>\n",
              "    <tr>\n",
              "      <th>1</th>\n",
              "      <td>Decision Tree (DT)</td>\n",
              "      <td>0.994159</td>\n",
              "      <td>0.988142</td>\n",
              "      <td>0.982209</td>\n",
              "      <td>0.985102</td>\n",
              "    </tr>\n",
              "    <tr>\n",
              "      <th>2</th>\n",
              "      <td>Random Forest (RF)</td>\n",
              "      <td>0.996191</td>\n",
              "      <td>0.991641</td>\n",
              "      <td>0.987254</td>\n",
              "      <td>0.989386</td>\n",
              "    </tr>\n",
              "    <tr>\n",
              "      <th>3</th>\n",
              "      <td>Support Vector Machine (SVM)</td>\n",
              "      <td>0.996953</td>\n",
              "      <td>0.995584</td>\n",
              "      <td>0.991289</td>\n",
              "      <td>0.993409</td>\n",
              "    </tr>\n",
              "    <tr>\n",
              "      <th>4</th>\n",
              "      <td>Naive Bayes (NB)</td>\n",
              "      <td>0.945658</td>\n",
              "      <td>0.856599</td>\n",
              "      <td>0.940845</td>\n",
              "      <td>0.893285</td>\n",
              "    </tr>\n",
              "  </tbody>\n",
              "</table>\n",
              "</div>\n",
              "    <div class=\"colab-df-buttons\">\n",
              "\n",
              "  <div class=\"colab-df-container\">\n",
              "    <button class=\"colab-df-convert\" onclick=\"convertToInteractive('df-439b9203-e462-43b0-a5b4-0af5c1d1f93b')\"\n",
              "            title=\"Convert this dataframe to an interactive table.\"\n",
              "            style=\"display:none;\">\n",
              "\n",
              "  <svg xmlns=\"http://www.w3.org/2000/svg\" height=\"24px\" viewBox=\"0 -960 960 960\">\n",
              "    <path d=\"M120-120v-720h720v720H120Zm60-500h600v-160H180v160Zm220 220h160v-160H400v160Zm0 220h160v-160H400v160ZM180-400h160v-160H180v160Zm440 0h160v-160H620v160ZM180-180h160v-160H180v160Zm440 0h160v-160H620v160Z\"/>\n",
              "  </svg>\n",
              "    </button>\n",
              "\n",
              "  <style>\n",
              "    .colab-df-container {\n",
              "      display:flex;\n",
              "      gap: 12px;\n",
              "    }\n",
              "\n",
              "    .colab-df-convert {\n",
              "      background-color: #E8F0FE;\n",
              "      border: none;\n",
              "      border-radius: 50%;\n",
              "      cursor: pointer;\n",
              "      display: none;\n",
              "      fill: #1967D2;\n",
              "      height: 32px;\n",
              "      padding: 0 0 0 0;\n",
              "      width: 32px;\n",
              "    }\n",
              "\n",
              "    .colab-df-convert:hover {\n",
              "      background-color: #E2EBFA;\n",
              "      box-shadow: 0px 1px 2px rgba(60, 64, 67, 0.3), 0px 1px 3px 1px rgba(60, 64, 67, 0.15);\n",
              "      fill: #174EA6;\n",
              "    }\n",
              "\n",
              "    .colab-df-buttons div {\n",
              "      margin-bottom: 4px;\n",
              "    }\n",
              "\n",
              "    [theme=dark] .colab-df-convert {\n",
              "      background-color: #3B4455;\n",
              "      fill: #D2E3FC;\n",
              "    }\n",
              "\n",
              "    [theme=dark] .colab-df-convert:hover {\n",
              "      background-color: #434B5C;\n",
              "      box-shadow: 0px 1px 3px 1px rgba(0, 0, 0, 0.15);\n",
              "      filter: drop-shadow(0px 1px 2px rgba(0, 0, 0, 0.3));\n",
              "      fill: #FFFFFF;\n",
              "    }\n",
              "  </style>\n",
              "\n",
              "    <script>\n",
              "      const buttonEl =\n",
              "        document.querySelector('#df-439b9203-e462-43b0-a5b4-0af5c1d1f93b button.colab-df-convert');\n",
              "      buttonEl.style.display =\n",
              "        google.colab.kernel.accessAllowed ? 'block' : 'none';\n",
              "\n",
              "      async function convertToInteractive(key) {\n",
              "        const element = document.querySelector('#df-439b9203-e462-43b0-a5b4-0af5c1d1f93b');\n",
              "        const dataTable =\n",
              "          await google.colab.kernel.invokeFunction('convertToInteractive',\n",
              "                                                    [key], {});\n",
              "        if (!dataTable) return;\n",
              "\n",
              "        const docLinkHtml = 'Like what you see? Visit the ' +\n",
              "          '<a target=\"_blank\" href=https://colab.research.google.com/notebooks/data_table.ipynb>data table notebook</a>'\n",
              "          + ' to learn more about interactive tables.';\n",
              "        element.innerHTML = '';\n",
              "        dataTable['output_type'] = 'display_data';\n",
              "        await google.colab.output.renderOutput(dataTable, element);\n",
              "        const docLink = document.createElement('div');\n",
              "        docLink.innerHTML = docLinkHtml;\n",
              "        element.appendChild(docLink);\n",
              "      }\n",
              "    </script>\n",
              "  </div>\n",
              "\n",
              "\n",
              "<div id=\"df-e7804d50-99a6-4f49-8716-1b1f0cc88e99\">\n",
              "  <button class=\"colab-df-quickchart\" onclick=\"quickchart('df-e7804d50-99a6-4f49-8716-1b1f0cc88e99')\"\n",
              "            title=\"Suggest charts\"\n",
              "            style=\"display:none;\">\n",
              "\n",
              "<svg xmlns=\"http://www.w3.org/2000/svg\" height=\"24px\"viewBox=\"0 0 24 24\"\n",
              "     width=\"24px\">\n",
              "    <g>\n",
              "        <path d=\"M19 3H5c-1.1 0-2 .9-2 2v14c0 1.1.9 2 2 2h14c1.1 0 2-.9 2-2V5c0-1.1-.9-2-2-2zM9 17H7v-7h2v7zm4 0h-2V7h2v10zm4 0h-2v-4h2v4z\"/>\n",
              "    </g>\n",
              "</svg>\n",
              "  </button>\n",
              "\n",
              "<style>\n",
              "  .colab-df-quickchart {\n",
              "      --bg-color: #E8F0FE;\n",
              "      --fill-color: #1967D2;\n",
              "      --hover-bg-color: #E2EBFA;\n",
              "      --hover-fill-color: #174EA6;\n",
              "      --disabled-fill-color: #AAA;\n",
              "      --disabled-bg-color: #DDD;\n",
              "  }\n",
              "\n",
              "  [theme=dark] .colab-df-quickchart {\n",
              "      --bg-color: #3B4455;\n",
              "      --fill-color: #D2E3FC;\n",
              "      --hover-bg-color: #434B5C;\n",
              "      --hover-fill-color: #FFFFFF;\n",
              "      --disabled-bg-color: #3B4455;\n",
              "      --disabled-fill-color: #666;\n",
              "  }\n",
              "\n",
              "  .colab-df-quickchart {\n",
              "    background-color: var(--bg-color);\n",
              "    border: none;\n",
              "    border-radius: 50%;\n",
              "    cursor: pointer;\n",
              "    display: none;\n",
              "    fill: var(--fill-color);\n",
              "    height: 32px;\n",
              "    padding: 0;\n",
              "    width: 32px;\n",
              "  }\n",
              "\n",
              "  .colab-df-quickchart:hover {\n",
              "    background-color: var(--hover-bg-color);\n",
              "    box-shadow: 0 1px 2px rgba(60, 64, 67, 0.3), 0 1px 3px 1px rgba(60, 64, 67, 0.15);\n",
              "    fill: var(--button-hover-fill-color);\n",
              "  }\n",
              "\n",
              "  .colab-df-quickchart-complete:disabled,\n",
              "  .colab-df-quickchart-complete:disabled:hover {\n",
              "    background-color: var(--disabled-bg-color);\n",
              "    fill: var(--disabled-fill-color);\n",
              "    box-shadow: none;\n",
              "  }\n",
              "\n",
              "  .colab-df-spinner {\n",
              "    border: 2px solid var(--fill-color);\n",
              "    border-color: transparent;\n",
              "    border-bottom-color: var(--fill-color);\n",
              "    animation:\n",
              "      spin 1s steps(1) infinite;\n",
              "  }\n",
              "\n",
              "  @keyframes spin {\n",
              "    0% {\n",
              "      border-color: transparent;\n",
              "      border-bottom-color: var(--fill-color);\n",
              "      border-left-color: var(--fill-color);\n",
              "    }\n",
              "    20% {\n",
              "      border-color: transparent;\n",
              "      border-left-color: var(--fill-color);\n",
              "      border-top-color: var(--fill-color);\n",
              "    }\n",
              "    30% {\n",
              "      border-color: transparent;\n",
              "      border-left-color: var(--fill-color);\n",
              "      border-top-color: var(--fill-color);\n",
              "      border-right-color: var(--fill-color);\n",
              "    }\n",
              "    40% {\n",
              "      border-color: transparent;\n",
              "      border-right-color: var(--fill-color);\n",
              "      border-top-color: var(--fill-color);\n",
              "    }\n",
              "    60% {\n",
              "      border-color: transparent;\n",
              "      border-right-color: var(--fill-color);\n",
              "    }\n",
              "    80% {\n",
              "      border-color: transparent;\n",
              "      border-right-color: var(--fill-color);\n",
              "      border-bottom-color: var(--fill-color);\n",
              "    }\n",
              "    90% {\n",
              "      border-color: transparent;\n",
              "      border-bottom-color: var(--fill-color);\n",
              "    }\n",
              "  }\n",
              "</style>\n",
              "\n",
              "  <script>\n",
              "    async function quickchart(key) {\n",
              "      const quickchartButtonEl =\n",
              "        document.querySelector('#' + key + ' button');\n",
              "      quickchartButtonEl.disabled = true;  // To prevent multiple clicks.\n",
              "      quickchartButtonEl.classList.add('colab-df-spinner');\n",
              "      try {\n",
              "        const charts = await google.colab.kernel.invokeFunction(\n",
              "            'suggestCharts', [key], {});\n",
              "      } catch (error) {\n",
              "        console.error('Error during call to suggestCharts:', error);\n",
              "      }\n",
              "      quickchartButtonEl.classList.remove('colab-df-spinner');\n",
              "      quickchartButtonEl.classList.add('colab-df-quickchart-complete');\n",
              "    }\n",
              "    (() => {\n",
              "      let quickchartButtonEl =\n",
              "        document.querySelector('#df-e7804d50-99a6-4f49-8716-1b1f0cc88e99 button');\n",
              "      quickchartButtonEl.style.display =\n",
              "        google.colab.kernel.accessAllowed ? 'block' : 'none';\n",
              "    })();\n",
              "  </script>\n",
              "</div>\n",
              "\n",
              "  <div id=\"id_b08d1d49-c4a2-4157-8d65-936cda34c6c2\">\n",
              "    <style>\n",
              "      .colab-df-generate {\n",
              "        background-color: #E8F0FE;\n",
              "        border: none;\n",
              "        border-radius: 50%;\n",
              "        cursor: pointer;\n",
              "        display: none;\n",
              "        fill: #1967D2;\n",
              "        height: 32px;\n",
              "        padding: 0 0 0 0;\n",
              "        width: 32px;\n",
              "      }\n",
              "\n",
              "      .colab-df-generate:hover {\n",
              "        background-color: #E2EBFA;\n",
              "        box-shadow: 0px 1px 2px rgba(60, 64, 67, 0.3), 0px 1px 3px 1px rgba(60, 64, 67, 0.15);\n",
              "        fill: #174EA6;\n",
              "      }\n",
              "\n",
              "      [theme=dark] .colab-df-generate {\n",
              "        background-color: #3B4455;\n",
              "        fill: #D2E3FC;\n",
              "      }\n",
              "\n",
              "      [theme=dark] .colab-df-generate:hover {\n",
              "        background-color: #434B5C;\n",
              "        box-shadow: 0px 1px 3px 1px rgba(0, 0, 0, 0.15);\n",
              "        filter: drop-shadow(0px 1px 2px rgba(0, 0, 0, 0.3));\n",
              "        fill: #FFFFFF;\n",
              "      }\n",
              "    </style>\n",
              "    <button class=\"colab-df-generate\" onclick=\"generateWithVariable('summary_df')\"\n",
              "            title=\"Generate code using this dataframe.\"\n",
              "            style=\"display:none;\">\n",
              "\n",
              "  <svg xmlns=\"http://www.w3.org/2000/svg\" height=\"24px\"viewBox=\"0 0 24 24\"\n",
              "       width=\"24px\">\n",
              "    <path d=\"M7,19H8.4L18.45,9,17,7.55,7,17.6ZM5,21V16.75L18.45,3.32a2,2,0,0,1,2.83,0l1.4,1.43a1.91,1.91,0,0,1,.58,1.4,1.91,1.91,0,0,1-.58,1.4L9.25,21ZM18.45,9,17,7.55Zm-12,3A5.31,5.31,0,0,0,4.9,8.1,5.31,5.31,0,0,0,1,6.5,5.31,5.31,0,0,0,4.9,4.9,5.31,5.31,0,0,0,6.5,1,5.31,5.31,0,0,0,8.1,4.9,5.31,5.31,0,0,0,12,6.5,5.46,5.46,0,0,0,6.5,12Z\"/>\n",
              "  </svg>\n",
              "    </button>\n",
              "    <script>\n",
              "      (() => {\n",
              "      const buttonEl =\n",
              "        document.querySelector('#id_b08d1d49-c4a2-4157-8d65-936cda34c6c2 button.colab-df-generate');\n",
              "      buttonEl.style.display =\n",
              "        google.colab.kernel.accessAllowed ? 'block' : 'none';\n",
              "\n",
              "      buttonEl.onclick = () => {\n",
              "        google.colab.notebook.generateWithVariable('summary_df');\n",
              "      }\n",
              "      })();\n",
              "    </script>\n",
              "  </div>\n",
              "\n",
              "    </div>\n",
              "  </div>\n"
            ],
            "application/vnd.google.colaboratory.intrinsic+json": {
              "type": "dataframe",
              "variable_name": "summary_df",
              "summary": "{\n  \"name\": \"summary_df\",\n  \"rows\": 5,\n  \"fields\": [\n    {\n      \"column\": \"Model\",\n      \"properties\": {\n        \"dtype\": \"string\",\n        \"num_unique_values\": 5,\n        \"samples\": [\n          \"Decision Tree (DT)\",\n          \"Naive Bayes (NB)\",\n          \"Random Forest (RF)\"\n        ],\n        \"semantic_type\": \"\",\n        \"description\": \"\"\n      }\n    },\n    {\n      \"column\": \"Accuracy\",\n      \"properties\": {\n        \"dtype\": \"number\",\n        \"std\": 0.0221249534435043,\n        \"min\": 0.9456576942610462,\n        \"max\": 0.9969527679024885,\n        \"num_unique_values\": 5,\n        \"samples\": [\n          0.994159471813103,\n          0.9456576942610462,\n          0.9961909598781107\n        ],\n        \"semantic_type\": \"\",\n        \"description\": \"\"\n      }\n    },\n    {\n      \"column\": \"Precision\",\n      \"properties\": {\n        \"dtype\": \"number\",\n        \"std\": 0.06022186978830413,\n        \"min\": 0.856598751835536,\n        \"max\": 0.9955836768624787,\n        \"num_unique_values\": 5,\n        \"samples\": [\n          0.9881420369387639,\n          0.856598751835536,\n          0.9916407747070654\n        ],\n        \"semantic_type\": \"\",\n        \"description\": \"\"\n      }\n    },\n    {\n      \"column\": \"Recall\",\n      \"properties\": {\n        \"dtype\": \"number\",\n        \"std\": 0.020340005408428327,\n        \"min\": 0.9408446185615458,\n        \"max\": 0.9912885198135447,\n        \"num_unique_values\": 5,\n        \"samples\": [\n          0.9822093724568882,\n          0.9408446185615458,\n          0.9872536010228518\n        ],\n        \"semantic_type\": \"\",\n        \"description\": \"\"\n      }\n    },\n    {\n      \"column\": \"F1-Score\",\n      \"properties\": {\n        \"dtype\": \"number\",\n        \"std\": 0.04257702826650722,\n        \"min\": 0.8932851867420427,\n        \"max\": 0.9934089102837539,\n        \"num_unique_values\": 5,\n        \"samples\": [\n          0.9851022558184539,\n          0.8932851867420427,\n          0.9893861170949713\n        ],\n        \"semantic_type\": \"\",\n        \"description\": \"\"\n      }\n    }\n  ]\n}"
            }
          },
          "metadata": {},
          "execution_count": 47
        }
      ]
    },
    {
      "cell_type": "markdown",
      "source": [
        "* **K-Nearest Neighbors (KNN)** menunjukkan akurasi sebesar 99.26%. Model ini memiliki precision 98.90%, recall 98.05%, dan F1-Score 98.47%. Semuanya memiliki angka yang sangat tinggi menunjukkan bahwa ketika model mengklasifikasikan ke suatu cluster, kemungkinan besar prediksi tersebut benar.\n",
        "\n",
        "* **Decision Tree** memperoleh akurasi sebesar 99.41%. Precision-nya adalah 98.81%, recall 98.22%, dan F1-Score 98.51%. Semuanya memiliki angka yang sangat tinggi menunjukkan bahwa ketika model mengklasifikasikan ke suatu cluster, kemungkinan besar prediksi tersebut benar.\n",
        "\n",
        "* **Random Forest** tampil dengan akurasi tertinggi sebesar 99.61%. Model ini memiliki precision 99.16%, recall 98.72%, dan F1-Score 98.93%. Semuanya memiliki angka yang sangat tinggi menunjukkan bahwa ketika model mengklasifikasikan ke suatu cluster, kemungkinan besar prediksi tersebut benar.\n",
        "\n",
        "* **Support Vector Machine (SVM)** memiliki akurasi 99.69%. Precision-nya mencapai 99.55%, recall 99.12%, dan F1-Score 99.34%. Semuanya memiliki angka yang sangat tinggi menunjukkan bahwa ketika model mengklasifikasikan ke suatu cluster, kemungkinan besar prediksi tersebut benar.\n",
        "\n",
        "* **Naive Bayes** menunjukkan akurasi 94.56%. Precision-nya adalah 85.65%, recall 94.08%, dan F1-Score 89.32%. Meskipun precision-nya dan F1-Score memiliki angka yang relatif tinggi, tetapi diantara model lainnya angka tersebut paling rendah."
      ],
      "metadata": {
        "id": "6HWrZkICGf8o"
      }
    },
    {
      "cell_type": "markdown",
      "source": [
        "## **c. Tuning Model Klasifikasi (Optional)**"
      ],
      "metadata": {
        "id": "ph9yIYDXEPuB"
      }
    },
    {
      "cell_type": "markdown",
      "source": [
        "Gunakan GridSearchCV, RandomizedSearchCV, atau metode lainnya untuk mencari kombinasi hyperparameter terbaik"
      ],
      "metadata": {
        "id": "-Bikx3LINv5e"
      }
    },
    {
      "cell_type": "code",
      "source": [
        "# Definisikan ruang pencarian untuk Bayesian Optimization\n",
        "param_space = {\n",
        "    'n_estimators': (100, 500),\n",
        "    'max_depth': (10, 20),\n",
        "    'min_samples_split': (2, 10),\n",
        "    'criterion': ['gini', 'entropy']\n",
        "}\n",
        "\n",
        "# Inisialisasi BayesSearchCV\n",
        "bayes_search = BayesSearchCV(estimator=rf, search_spaces=param_space, n_iter=32, cv=3, n_jobs=-1, verbose=2, random_state=42)\n",
        "bayes_search.fit(X_train, y_train)\n",
        "\n",
        "# Output hasil terbaik\n",
        "print(f\"Best parameters (Bayesian Optimization): {bayes_search.best_params_}\")\n",
        "best_rf_bayes = bayes_search.best_estimator_\n",
        "\n",
        "# Evaluasi performa model pada test set\n",
        "bayes_search_score = best_rf_bayes.score(X_test, y_test)\n",
        "print(f\"Accuracy after Bayesian Optimization: {bayes_search_score:.2f}\")"
      ],
      "metadata": {
        "id": "winbFzb8NL95",
        "colab": {
          "base_uri": "https://localhost:8080/"
        },
        "outputId": "7bd43c86-d2aa-4e98-c715-a4e5fac3168f"
      },
      "execution_count": 49,
      "outputs": [
        {
          "output_type": "stream",
          "name": "stdout",
          "text": [
            "Fitting 3 folds for each of 1 candidates, totalling 3 fits\n",
            "Fitting 3 folds for each of 1 candidates, totalling 3 fits\n",
            "Fitting 3 folds for each of 1 candidates, totalling 3 fits\n",
            "Fitting 3 folds for each of 1 candidates, totalling 3 fits\n",
            "Fitting 3 folds for each of 1 candidates, totalling 3 fits\n",
            "Fitting 3 folds for each of 1 candidates, totalling 3 fits\n",
            "Fitting 3 folds for each of 1 candidates, totalling 3 fits\n",
            "Fitting 3 folds for each of 1 candidates, totalling 3 fits\n",
            "Fitting 3 folds for each of 1 candidates, totalling 3 fits\n",
            "Fitting 3 folds for each of 1 candidates, totalling 3 fits\n",
            "Fitting 3 folds for each of 1 candidates, totalling 3 fits\n",
            "Fitting 3 folds for each of 1 candidates, totalling 3 fits\n",
            "Fitting 3 folds for each of 1 candidates, totalling 3 fits\n",
            "Fitting 3 folds for each of 1 candidates, totalling 3 fits\n",
            "Fitting 3 folds for each of 1 candidates, totalling 3 fits\n",
            "Fitting 3 folds for each of 1 candidates, totalling 3 fits\n",
            "Fitting 3 folds for each of 1 candidates, totalling 3 fits\n",
            "Fitting 3 folds for each of 1 candidates, totalling 3 fits\n",
            "Fitting 3 folds for each of 1 candidates, totalling 3 fits\n",
            "Fitting 3 folds for each of 1 candidates, totalling 3 fits\n",
            "Fitting 3 folds for each of 1 candidates, totalling 3 fits\n",
            "Fitting 3 folds for each of 1 candidates, totalling 3 fits\n",
            "Fitting 3 folds for each of 1 candidates, totalling 3 fits\n",
            "Fitting 3 folds for each of 1 candidates, totalling 3 fits\n",
            "Fitting 3 folds for each of 1 candidates, totalling 3 fits\n",
            "Fitting 3 folds for each of 1 candidates, totalling 3 fits\n",
            "Fitting 3 folds for each of 1 candidates, totalling 3 fits\n",
            "Fitting 3 folds for each of 1 candidates, totalling 3 fits\n",
            "Fitting 3 folds for each of 1 candidates, totalling 3 fits\n",
            "Fitting 3 folds for each of 1 candidates, totalling 3 fits\n",
            "Fitting 3 folds for each of 1 candidates, totalling 3 fits\n",
            "Fitting 3 folds for each of 1 candidates, totalling 3 fits\n",
            "Best parameters (Bayesian Optimization): OrderedDict([('criterion', 'entropy'), ('max_depth', 10), ('min_samples_split', 2), ('n_estimators', 497)])\n",
            "Accuracy after Bayesian Optimization: 1.00\n"
          ]
        }
      ]
    },
    {
      "cell_type": "markdown",
      "source": [
        "## **d. Evaluasi Model Klasifikasi setelah Tuning (Optional)**"
      ],
      "metadata": {
        "id": "hE7pqlEPEYzI"
      }
    },
    {
      "cell_type": "markdown",
      "source": [
        "Berikut adalah rekomendasi tahapannya.\n",
        "1. Gunakan model dengan hyperparameter terbaik.\n",
        "2. Hitung ulang metrik evaluasi untuk melihat apakah ada peningkatan performa."
      ],
      "metadata": {
        "id": "feaPESoeN0zz"
      }
    },
    {
      "cell_type": "code",
      "source": [
        "# Prediksi dengan model terbaik\n",
        "y_pred_bs = best_rf_bayes.predict(X_test)\n",
        "\n",
        "# Menghitung dan menampilkan metrik evaluasi\n",
        "metrics = []\n",
        "metrics.append({\n",
        "    'Accuracy': round(accuracy_score(y_test, y_pred_bs), 6),\n",
        "    'Precision': round(precision_score(y_test, y_pred_bs, average='macro'), 6),\n",
        "    'Recall': round(recall_score(y_test, y_pred_bs, average='macro'), 6),\n",
        "    'F1-Score': round(f1_score(y_test, y_pred_bs, average='macro'), 6)\n",
        "})\n",
        "\n",
        "print(pd.DataFrame(metrics))"
      ],
      "metadata": {
        "id": "HTXZRvEeNMb1",
        "colab": {
          "base_uri": "https://localhost:8080/"
        },
        "outputId": "e8d8374b-836d-4e68-ce5d-c97a78930414"
      },
      "execution_count": 79,
      "outputs": [
        {
          "output_type": "stream",
          "name": "stdout",
          "text": [
            "   Accuracy  Precision    Recall  F1-Score\n",
            "0  0.997207   0.993603  0.991948  0.992764\n"
          ]
        }
      ]
    },
    {
      "cell_type": "markdown",
      "source": [
        "## **e. Analisis Hasil Evaluasi Model Klasifikasi**"
      ],
      "metadata": {
        "id": "ZRsOdm4uEgAW"
      }
    },
    {
      "cell_type": "markdown",
      "source": [
        "Berikut adalah **rekomendasi** tahapannya.\n",
        "1. Bandingkan hasil evaluasi sebelum dan setelah tuning (jika dilakukan).\n",
        "2. Identifikasi kelemahan model, seperti:\n",
        "  - Precision atau Recall rendah untuk kelas tertentu.\n",
        "  - Apakah model mengalami overfitting atau underfitting?\n",
        "3. Berikan rekomendasi tindakan lanjutan, seperti mengumpulkan data tambahan atau mencoba algoritma lain jika hasil belum memuaskan."
      ],
      "metadata": {
        "id": "Hm3BhSi6N4_l"
      }
    },
    {
      "cell_type": "markdown",
      "source": [
        "**Bandingkan hasil evaluasi sebelum dan setelah tuning**"
      ],
      "metadata": {
        "id": "GBDvpeutd1Sw"
      }
    },
    {
      "cell_type": "code",
      "source": [
        "print(\"Hasil evaluasi sebelum tuning\")\n",
        "sum_rf = summary_df[summary_df['Model'] == 'Random Forest (RF)'].iloc[:, [1, 2, 3, 4]].values\n",
        "print(pd.DataFrame(sum_rf, columns=['Accuracy', 'Precision', 'Recall', 'F1-Score']))\n",
        "\n",
        "print()\n",
        "\n",
        "print(\"Hasil evaluasi sebelum dan setelah tuning\")\n",
        "print(pd.DataFrame(metrics))"
      ],
      "metadata": {
        "colab": {
          "base_uri": "https://localhost:8080/"
        },
        "id": "z2bg0yMGFo9B",
        "outputId": "1783ed39-8526-48f1-da4d-780326421fa6"
      },
      "execution_count": 80,
      "outputs": [
        {
          "output_type": "stream",
          "name": "stdout",
          "text": [
            "Hasil evaluasi sebelum tuning\n",
            "   Accuracy  Precision    Recall  F1-Score\n",
            "0  0.996191   0.991641  0.987254  0.989386\n",
            "\n",
            "Hasil evaluasi sebelum dan setelah tuning\n",
            "   Accuracy  Precision    Recall  F1-Score\n",
            "0  0.997207   0.993603  0.991948  0.992764\n"
          ]
        }
      ]
    },
    {
      "cell_type": "markdown",
      "source": [
        "**Perbandingan Sebelum dan Setelah Tuning**\n",
        "1. **Accuracy**\n",
        "  * Sebelum Tuning: 0.996191\n",
        "  * Setelah Tuning: 0.997207\n",
        "\n",
        "  **Analisis:**\n",
        "\n",
        "  Terjadi sedikit peningkatan pada Accuracy setelah tuning (dari 0.996191 menjadi 0.9972).\n",
        "\n",
        "2. **Precision**\n",
        "  * Sebelum Tuning: 0.991641\n",
        "  * Setelah Tuning: 0.993603\n",
        "\n",
        "  **Analisis:**\n",
        "\n",
        "  Precision meningkat setelah tuning, yang berarti model efektif dalam mengklasifikasikan prediksi cluster yang sebenarnya.\n",
        "\n",
        "3. **Recall**\n",
        "  * Sebelum Tuning: 0.987254\n",
        "  * Setelah Tuning: 0.991948\n",
        "\n",
        "  **Analisis:**\n",
        "\n",
        "  Recall juga meningkat sedikit setelah tuning, yang menunjukkan bahwa model lebih baik dalam mengidentifikasi suatu instance.\n",
        "\n",
        "4. **F1-Score**\n",
        "  * Sebelum Tuning: 0.989386\n",
        "  * Setelah Tuning: 0.992864\n",
        "\n",
        "  **Analisis:**\n",
        "\n",
        "  F1-Score meningkat dari 0.989386 menjadi 0.9928 setelah tuning. Peningkatan F1-Score menunjukkan bahwa secara keseluruhan model menjadi lebih baik dalam keseimbangan antara Precision dan Recall."
      ],
      "metadata": {
        "id": "I0wMo_wadyJz"
      }
    },
    {
      "cell_type": "markdown",
      "source": [
        "**Identifikasi kelemahan model**"
      ],
      "metadata": {
        "id": "bM9XHgzzd6T_"
      }
    },
    {
      "cell_type": "markdown",
      "source": [
        "Meskipun model menunjukkan peningkatan setelah tuning, ada beberapa aspek yang perlu diperhatikan:\n",
        "\n",
        "**Precision atau Recall untuk Kelas Tertentu:**\n",
        "\n",
        "* Perbedaan antara Precision dan Recall yang relatif kecil menunjukkan bahwa model sudah cukup baik dalam menangani proses klasifikasi suatu cluster.\n",
        "\n",
        "**Kemungkinan Overfitting atau Underfitting:**\n",
        "\n",
        "* Overfitting: Model menunjukkan Accuracy tinggi (sebelum dan sesudah tuning), namun performa yang sangat tinggi pada data pelatihan dapat menandakan kemungkinan overfitting.\n",
        "\n",
        "* Underfitting: Tidak terlihat adanya indikasi underfitting karena Accuracy, Precision, Recall, dan F1-Score sudah cukup baik di kedua pengujian."
      ],
      "metadata": {
        "id": "_RZVKLhNeD_a"
      }
    }
  ]
}